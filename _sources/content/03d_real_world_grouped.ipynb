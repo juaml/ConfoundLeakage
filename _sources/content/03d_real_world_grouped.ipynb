{
 "cells": [
  {
   "cell_type": "markdown",
   "id": "a9c43750",
   "metadata": {},
   "source": [
    "# Analysis 3d: Real World Datasets Audio Data Grouped CR\n",
    "\n",
    "Imports, Functs and Paths"
   ]
  },
  {
   "cell_type": "code",
   "execution_count": 1,
   "id": "e304ac24",
   "metadata": {
    "tags": [
     "hide-input",
     "hide-output"
    ]
   },
   "outputs": [
    {
     "data": {
      "text/plain": [
       "<Figure size 2161.42x1653.54 with 0 Axes>"
      ]
     },
     "metadata": {},
     "output_type": "display_data"
    }
   ],
   "source": [
    "from sklearn.preprocessing import StandardScaler\n",
    "from sklearn.ensemble import RandomForestClassifier\n",
    "import numpy as np\n",
    "from sklearn.model_selection import RepeatedStratifiedKFold\n",
    "from leakconfound.transformers import Shuffle\n",
    "import os\n",
    "\n",
    "import pandas as pd\n",
    "import matplotlib.pyplot as plt\n",
    "from julearn.transformers.confounds import DataFrameConfoundRemover\n",
    "\n",
    "# plot styles\n",
    "from sciplotlib import style\n",
    "\n",
    "import matplotlib as mpl\n",
    "\n",
    "import warnings\n",
    "\n",
    "warnings.filterwarnings(\"ignore\", category=UserWarning)\n",
    "warnings.filterwarnings(\"ignore\", category=FutureWarning)\n",
    "\n",
    "base_save_paper = \"./paper_val/\"\n",
    "results_base = \"../../results/permutations\"\n",
    "base_dir = \"../../\"\n",
    "colors = [\n",
    "    \"#E64B35\",\n",
    "    \"#4DBBD5\",\n",
    "    \"#00A087\",\n",
    "    \"#3C5488\",\n",
    "    \"#F39B7F\",\n",
    "    \"#8491B4\",\n",
    "    \"#91D1C2FF\",\n",
    "    \"#DC0000\",\n",
    "    \"#7E6148\",\n",
    "    \"#B09C85\",\n",
    "]\n",
    "red = colors[0]\n",
    "blue = colors[1]\n",
    "green = colors[2]\n",
    "purple = colors[5]\n",
    "\n",
    "np.random.seed(891236740)\n",
    "\n",
    "\n",
    "def mm_to_inch(val_in_inch):\n",
    "    mm = 0.1 / 2.54\n",
    "    return val_in_inch * mm\n",
    "\n",
    "\n",
    "base_save_paper = \"./paper_val/\"\n",
    "results_base = \"../../results/\"\n",
    "base_dir = \"../../\"\n",
    "audio_data_non_TaCo_folder = f\"{results_base}basic_non_TaCo/realistic_non_TaCo/models/\"\n",
    "\n",
    "audio_data_shuffled_non_TaCo_folder = (\n",
    "    f\"{results_base}\" \"shuffled_features_non_TaCo/realistic_non_TaCo/models/\"\n",
    ")\n",
    "\n",
    "\n",
    "mpl.style.use(style.get_style(\"nature-reviews\"))\n",
    "mpl.rc(\"xtick\", labelsize=11)\n",
    "mpl.rc(\"ytick\", labelsize=11)\n",
    "mpl.rc(\"axes\", labelsize=12, titlesize=12)\n",
    "mpl.rc(\"figure\", dpi=300)\n",
    "mpl.rc(\"figure.subplot\", wspace=mm_to_inch(8), hspace=0.7)\n",
    "mpl.rc(\"lines\", linewidth=1, markersize=2)\n",
    "\n",
    "fig = plt.figure(\n",
    "    figsize=[mm_to_inch(183), mm_to_inch(140)],\n",
    ")\n"
   ]
  },
  {
   "cell_type": "markdown",
   "id": "3532338e",
   "metadata": {},
   "source": [
    "Some info on the data:"
   ]
  },
  {
   "cell_type": "code",
   "execution_count": 2,
   "id": "95cd42b8",
   "metadata": {
    "tags": [
     "hide-input"
    ]
   },
   "outputs": [
    {
     "name": "stdout",
     "output_type": "stream",
     "text": [
      "             raw        rem  shuffled_raw  shuffled_rem  folds\n",
      "count  10.000000  10.000000     10.000000     10.000000   10.0\n",
      "mean    0.653169   0.827385      0.510246      0.786031    2.0\n",
      "std     0.019319   0.018055      0.049074      0.021047    0.0\n",
      "min     0.620308   0.801538      0.452308      0.762462    2.0\n",
      "25%     0.642615   0.817615      0.485385      0.769769    2.0\n",
      "50%     0.658308   0.826308      0.492923      0.778769    2.0\n",
      "75%     0.666846   0.841538      0.513077      0.800000    2.0\n",
      "max     0.675077   0.849846      0.619385      0.825538    2.0\n"
     ]
    }
   ],
   "source": [
    "os.listdir(audio_data_non_TaCo_folder)\n",
    "\n",
    "df_original = pd.read_csv(\"../../data/realistic_non_TaCo/audio_data/audio_data_BDI.csv\")\n",
    "\n",
    "X = df_original.filter(regex=\".*__continuous$\").columns.tolist()\n",
    "y = \"ATT_Task__binary_target\"\n",
    "confounds = [\"BDI__continuous_confound\"]\n",
    "cv = RepeatedStratifiedKFold(random_state=2738).split(df_original[X], df_original[y])\n",
    "\n",
    "scores_raw = []\n",
    "scores_rm = []\n",
    "scores_shuffled_raw = []\n",
    "scores_shuffled_rm = []\n",
    "for i_train, i_test in cv:\n",
    "    df_i_train = df_original.iloc[i_train, :].copy()\n",
    "    df_i_train_0 = df_i_train.query(f\"{y} == 0\").copy()\n",
    "    df_i_test = df_original.iloc[i_test, :].copy()\n",
    "\n",
    "    X_i_train = df_i_train.loc[:, X]\n",
    "    Xc_i_train = df_i_train.loc[:, X + confounds]\n",
    "    y_i_train = df_i_train.loc[:, y]\n",
    "\n",
    "    Xc_i_train_0 = df_i_train_0.loc[:, X + confounds]\n",
    "    y_i_train_0 = df_i_train_0.loc[:, y]\n",
    "\n",
    "    X_i_test = df_i_test.loc[:, X]\n",
    "    Xc_i_test = df_i_test.loc[:, X + confounds]\n",
    "    y_i_test = df_i_test.loc[:, y]\n",
    "\n",
    "    # Raw:\n",
    "    sc = StandardScaler().fit(X_i_train)\n",
    "    X_sc_train = sc.transform(X_i_train)\n",
    "    X_sc_test = sc.transform(X_i_test)\n",
    "    rf_X = RandomForestClassifier(n_estimators=300, random_state=78).fit(\n",
    "        X_sc_train, y_i_train\n",
    "    )\n",
    "    scores_raw.append(rf_X.score(X_sc_test, y_i_test))\n",
    "\n",
    "    # Remove trained on class 0 only:\n",
    "    # But transform both\n",
    "    sc_0 = StandardScaler().fit(Xc_i_train_0)\n",
    "    Xc_sc_train_0 = pd.DataFrame(sc_0.transform(Xc_i_train), columns=Xc_i_train.columns)\n",
    "\n",
    "    Xc_sc_test_0 = pd.DataFrame(sc_0.transform(Xc_i_test), columns=Xc_i_train.columns)\n",
    "\n",
    "    remover = DataFrameConfoundRemover(confounds_match=confounds[0]).fit(Xc_sc_train_0)\n",
    "    Xc_rem_train = remover.transform(Xc_sc_train_0)\n",
    "    Xc_rem_test = remover.transform(Xc_sc_test_0)\n",
    "\n",
    "    assert len(Xc_rem_train.columns) == len(X)\n",
    "    rf_X = RandomForestClassifier(n_estimators=300, random_state=78).fit(\n",
    "        Xc_rem_train, y_i_train\n",
    "    )\n",
    "    scores_rm.append(rf_X.score(Xc_rem_test, y_i_test))\n",
    "\n",
    "    # Shuffled\n",
    "    # Raw:\n",
    "    shuffler = Shuffle().fit(X_i_train)\n",
    "    X_i_train_shuffled = shuffler.transform(X_i_train)\n",
    "    X_i_test_shuffled = shuffler.transform(X_i_test)\n",
    "    Xc_i_train_shuffled = X_i_train_shuffled.copy()\n",
    "    Xc_i_train_shuffled[confounds] = Xc_i_train[confounds]\n",
    "    Xc_i_test_shuffled = X_i_test_shuffled.copy()\n",
    "    Xc_i_test_shuffled[confounds] = Xc_i_test[confounds]\n",
    "    Xc_i_train_shuffled_0 = Xc_i_train_shuffled.loc[y_i_train == 0]\n",
    "\n",
    "    sc = StandardScaler().fit(X_i_train_shuffled)\n",
    "    X_sc_train_shuffled = sc.transform(X_i_train_shuffled)\n",
    "    X_sc_test = sc.transform(X_i_test)\n",
    "    rf_X = RandomForestClassifier(n_estimators=300, random_state=78).fit(\n",
    "        X_sc_train_shuffled, y_i_train\n",
    "    )\n",
    "    scores_shuffled_raw.append(rf_X.score(X_sc_test, y_i_test))\n",
    "\n",
    "    # Remove train_shuffleded on class 0 only:\n",
    "    # But transform both\n",
    "    sc_0 = StandardScaler().fit(Xc_i_train_shuffled_0)\n",
    "    Xc_sc_train_shuffled_0 = pd.DataFrame(\n",
    "        sc_0.transform(Xc_i_train_shuffled), columns=Xc_i_train_shuffled.columns\n",
    "    )\n",
    "\n",
    "    Xc_sc_test_0 = pd.DataFrame(\n",
    "        sc_0.transform(Xc_i_test), columns=Xc_i_train_shuffled.columns\n",
    "    )\n",
    "\n",
    "    remover = DataFrameConfoundRemover(confounds_match=confounds[0]).fit(\n",
    "        Xc_sc_train_shuffled_0\n",
    "    )\n",
    "    Xc_rem_train_shuffled = remover.transform(Xc_sc_train_shuffled_0)\n",
    "    Xc_rem_test = remover.transform(Xc_sc_test_0)\n",
    "\n",
    "    assert len(Xc_rem_train_shuffled.columns) == len(X)\n",
    "    rf_X = RandomForestClassifier(n_estimators=300, random_state=78).fit(\n",
    "        Xc_rem_train_shuffled, y_i_train\n",
    "    )\n",
    "    scores_shuffled_rm.append(rf_X.score(Xc_rem_test, y_i_test))\n",
    "\n",
    "df_scores = pd.DataFrame(\n",
    "    dict(\n",
    "        raw=scores_raw,\n",
    "        rem=scores_rm,\n",
    "        shuffled_raw=scores_shuffled_raw,\n",
    "        shuffled_rem=scores_shuffled_rm,\n",
    "        repeats=np.repeat(np.arange(10), 5),\n",
    "        folds=np.tile(np.arange(5), 10),\n",
    "    )\n",
    ")\n",
    "df_grouped = df_scores.groupby(\"repeats\").mean()\n",
    "print(df_grouped.describe())"
   ]
  }
 ],
 "metadata": {
  "jupytext": {
   "text_representation": {
    "extension": ".md",
    "format_name": "myst",
    "format_version": 0.13,
    "jupytext_version": "1.11.5"
   }
  },
  "kernelspec": {
   "display_name": "Python 3",
   "language": "python",
   "name": "python3"
  },
  "language_info": {
   "codemirror_mode": {
    "name": "ipython",
    "version": 3
   },
   "file_extension": ".py",
   "mimetype": "text/x-python",
   "name": "python",
   "nbconvert_exporter": "python",
   "pygments_lexer": "ipython3",
   "version": "3.10.10"
  },
  "source_map": [
   14,
   19,
   95,
   99
  ]
 },
 "nbformat": 4,
 "nbformat_minor": 5
}